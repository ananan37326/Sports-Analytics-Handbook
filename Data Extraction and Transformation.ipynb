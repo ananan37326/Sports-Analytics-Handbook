{
 "cells": [
  {
   "cell_type": "markdown",
   "metadata": {},
   "source": [
    "# Data Extraction and Transformation\n",
    "\n",
    "#### Parsing raw `StatsBomb` data and store it in a Pandas DataFrame"
   ]
  },
  {
   "cell_type": "code",
   "execution_count": 6,
   "metadata": {},
   "outputs": [],
   "source": [
    "import requests\n",
    "import pandas as pd\n",
    "from tqdm import tqdm"
   ]
  },
  {
   "cell_type": "code",
   "execution_count": 2,
   "metadata": {},
   "outputs": [],
   "source": [
    "base_url = \"https://raw.githubusercontent.com/statsbomb/open-data/master/data/\"\n",
    "comp_url = base_url + \"matches/{}/{}.json\"\n",
    "match_url = base_url + \"events/{}.json\""
   ]
  },
  {
   "cell_type": "code",
   "execution_count": 9,
   "metadata": {},
   "outputs": [],
   "source": [
    "def parse_data(competition_id, season_id):\n",
    "    matches = requests.get(url=comp_url.format(competition_id,season_id)).json()\n",
    "    match_ids = [m['match_id'] for m in matches]\n",
    "    \n",
    "    all_events = []\n",
    "    \n",
    "    for match_id in tqdm(match_ids):\n",
    "        events = requests.get(url=match_url.format(match_id)).json()\n",
    "        \n",
    "        shots = [x for x in events if x['type']['name'] == \"Shot\"]\n",
    "        for s in shots:\n",
    "            attributes = {\n",
    "                \"match_id\" : match_id,\n",
    "                \"team\" : s[\"possession_team\"][\"name\"],\n",
    "                \"player\" : s['player']['name'],\n",
    "                \"x\" : s['location'][0],\n",
    "                \"y\" : s['location'][1],\n",
    "                \"outcome\" : s['shot']['outcome']['name'],\n",
    "            }\n",
    "            all_events.append(attributes)\n",
    "            \n",
    "    return pd.DataFrame(all_events)"
   ]
  },
  {
   "cell_type": "markdown",
   "metadata": {},
   "source": [
    "The `parse_data` function handles the full Extract & Transform process.\n",
    "\n",
    "The sequence of events is this:\n",
    "1. The list of matches is loaded into the `matches` list.\n",
    "2. Match IDs are extracted into a separate list using a list comprehension on `matches`.\n",
    "3. Iterate over Match ID's, and load each match's raw data into the `events` list.\n",
    "4. Shots are extracted into a separate list using a list comprehension as a filter on `events`.\n",
    "5. Iterate over shots and extract individual features and store them in the `attributes` dictionary.\n",
    "6. Append each shot's `attributes` into the `all_events` list.\n",
    "7. Return a Pandas DataFrame from the `all_events` list.\n",
    "\n",
    "---"
   ]
  },
  {
   "cell_type": "code",
   "execution_count": 4,
   "metadata": {},
   "outputs": [],
   "source": [
    "competition_id = 43\n",
    "season_id = 3"
   ]
  },
  {
   "cell_type": "code",
   "execution_count": 10,
   "metadata": {},
   "outputs": [
    {
     "name": "stderr",
     "output_type": "stream",
     "text": [
      "100%|██████████████████████████████████████████████████████████████████████████████████| 64/64 [01:11<00:00,  1.12s/it]\n"
     ]
    }
   ],
   "source": [
    "df = parse_data(competition_id,season_id)"
   ]
  },
  {
   "cell_type": "code",
   "execution_count": 12,
   "metadata": {},
   "outputs": [
    {
     "data": {
      "text/html": [
       "<div>\n",
       "<style scoped>\n",
       "    .dataframe tbody tr th:only-of-type {\n",
       "        vertical-align: middle;\n",
       "    }\n",
       "\n",
       "    .dataframe tbody tr th {\n",
       "        vertical-align: top;\n",
       "    }\n",
       "\n",
       "    .dataframe thead th {\n",
       "        text-align: right;\n",
       "    }\n",
       "</style>\n",
       "<table border=\"1\" class=\"dataframe\">\n",
       "  <thead>\n",
       "    <tr style=\"text-align: right;\">\n",
       "      <th></th>\n",
       "      <th>match_id</th>\n",
       "      <th>team</th>\n",
       "      <th>player</th>\n",
       "      <th>x</th>\n",
       "      <th>y</th>\n",
       "      <th>outcome</th>\n",
       "    </tr>\n",
       "  </thead>\n",
       "  <tbody>\n",
       "    <tr>\n",
       "      <th>0</th>\n",
       "      <td>7581</td>\n",
       "      <td>Denmark</td>\n",
       "      <td>Mathias Jattah-Njie Jørgensen</td>\n",
       "      <td>115.0</td>\n",
       "      <td>34.0</td>\n",
       "      <td>Goal</td>\n",
       "    </tr>\n",
       "    <tr>\n",
       "      <th>1</th>\n",
       "      <td>7581</td>\n",
       "      <td>Croatia</td>\n",
       "      <td>Mario Mandžukić</td>\n",
       "      <td>112.0</td>\n",
       "      <td>36.0</td>\n",
       "      <td>Goal</td>\n",
       "    </tr>\n",
       "    <tr>\n",
       "      <th>2</th>\n",
       "      <td>7581</td>\n",
       "      <td>Croatia</td>\n",
       "      <td>Ivan Perišić</td>\n",
       "      <td>101.0</td>\n",
       "      <td>55.0</td>\n",
       "      <td>Blocked</td>\n",
       "    </tr>\n",
       "    <tr>\n",
       "      <th>3</th>\n",
       "      <td>7581</td>\n",
       "      <td>Croatia</td>\n",
       "      <td>Ivan Perišić</td>\n",
       "      <td>103.0</td>\n",
       "      <td>24.0</td>\n",
       "      <td>Blocked</td>\n",
       "    </tr>\n",
       "    <tr>\n",
       "      <th>4</th>\n",
       "      <td>7581</td>\n",
       "      <td>Denmark</td>\n",
       "      <td>Christian Dannemann Eriksen</td>\n",
       "      <td>96.0</td>\n",
       "      <td>37.0</td>\n",
       "      <td>Blocked</td>\n",
       "    </tr>\n",
       "  </tbody>\n",
       "</table>\n",
       "</div>"
      ],
      "text/plain": [
       "   match_id     team                         player      x     y  outcome\n",
       "0      7581  Denmark  Mathias Jattah-Njie Jørgensen  115.0  34.0     Goal\n",
       "1      7581  Croatia                Mario Mandžukić  112.0  36.0     Goal\n",
       "2      7581  Croatia                   Ivan Perišić  101.0  55.0  Blocked\n",
       "3      7581  Croatia                   Ivan Perišić  103.0  24.0  Blocked\n",
       "4      7581  Denmark    Christian Dannemann Eriksen   96.0  37.0  Blocked"
      ]
     },
     "execution_count": 12,
     "metadata": {},
     "output_type": "execute_result"
    }
   ],
   "source": [
    "df.head()"
   ]
  },
  {
   "cell_type": "code",
   "execution_count": null,
   "metadata": {},
   "outputs": [],
   "source": []
  }
 ],
 "metadata": {
  "kernelspec": {
   "display_name": "Python 3",
   "language": "python",
   "name": "python3"
  },
  "language_info": {
   "codemirror_mode": {
    "name": "ipython",
    "version": 3
   },
   "file_extension": ".py",
   "mimetype": "text/x-python",
   "name": "python",
   "nbconvert_exporter": "python",
   "pygments_lexer": "ipython3",
   "version": "3.8.5"
  }
 },
 "nbformat": 4,
 "nbformat_minor": 4
}
