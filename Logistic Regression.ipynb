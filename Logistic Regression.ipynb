{
 "cells": [
  {
   "cell_type": "markdown",
   "metadata": {},
   "source": [
    "#### Predicting the outcome of a shot given its features"
   ]
  },
  {
   "cell_type": "code",
   "execution_count": 1,
   "metadata": {},
   "outputs": [],
   "source": [
    "import requests\n",
    "import pandas as pd\n",
    "import numpy as np\n",
    "import matplotlib.pyplot as plt\n",
    "from tqdm import tqdm"
   ]
  },
  {
   "cell_type": "code",
   "execution_count": 2,
   "metadata": {},
   "outputs": [],
   "source": [
    "base_url = \"https://raw.githubusercontent.com/statsbomb/open-data/master/data/\"\n",
    "comp_url = base_url + \"matches/{}/{}.json\"\n",
    "match_url = base_url + \"events/{}.json\""
   ]
  },
  {
   "cell_type": "code",
   "execution_count": 10,
   "metadata": {},
   "outputs": [],
   "source": [
    "def parse_data(competition_id, season_id):\n",
    "    matches = requests.get(url=comp_url.format(competition_id,season_id)).json()\n",
    "    match_ids = [m['match_id'] for m in matches]\n",
    "    \n",
    "    all_events = []\n",
    "    \n",
    "    for match_id in tqdm(match_ids):\n",
    "        events = requests.get(url=match_url.format(match_id)).json()\n",
    "        \n",
    "        shots = [x for x in events if x['type']['name'] == \"Shot\"]\n",
    "        for s in shots:\n",
    "            attributes = {\n",
    "                \"x\" : s['location'][0],\n",
    "                \"y\" : s['location'][1],\n",
    "                \"head\" : 1 if s['shot']['body_part']['name'] == \"Head\" else 0,\n",
    "                \"phase\" : s['shot']['type']['name'],\n",
    "                \"outcome\" : 1 if s['shot']['outcome']['name'] == \"Goal\" else 0,\n",
    "                \"xG\" : s['shot']['statsbomb_xg']\n",
    "            }\n",
    "            all_events.append(attributes)\n",
    "            \n",
    "    return pd.DataFrame(all_events)"
   ]
  },
  {
   "cell_type": "code",
   "execution_count": 11,
   "metadata": {},
   "outputs": [],
   "source": [
    "competition_id = 43\n",
    "season_id = 3"
   ]
  },
  {
   "cell_type": "code",
   "execution_count": 12,
   "metadata": {},
   "outputs": [
    {
     "name": "stderr",
     "output_type": "stream",
     "text": [
      "100%|██████████████████████████████████████████████████████████████████████████████████| 64/64 [01:12<00:00,  1.14s/it]\n"
     ]
    }
   ],
   "source": [
    "df = parse_data(competition_id,season_id)"
   ]
  },
  {
   "cell_type": "code",
   "execution_count": 13,
   "metadata": {},
   "outputs": [],
   "source": [
    "def distance_to_goal(origin):\n",
    "    dest = np.array([120.,40.])\n",
    "    return np.sqrt(np.sum((origin-dest)**2))"
   ]
  },
  {
   "cell_type": "code",
   "execution_count": 14,
   "metadata": {},
   "outputs": [],
   "source": [
    "def goal_angle(origin):\n",
    "    leftPost = np.array((120.,36.))\n",
    "    originA = np.array(origin,dtype=np.float)\n",
    "    rightPost = np.array((120.,44.))\n",
    "    \n",
    "    v0 = leftPost - originA\n",
    "    v1 = rightPost - leftPost\n",
    "    \n",
    "    angle = np.abs(np.math.atan2(np.linalg.det([v0,v1]),np.dot(v0,v1)))\n",
    "    \n",
    "    return angle"
   ]
  },
  {
   "cell_type": "code",
   "execution_count": 15,
   "metadata": {},
   "outputs": [],
   "source": [
    "df['distance_to_goal'] = df.apply(\n",
    "    lambda row: distance_to_goal(row[['x','y']]),axis=1)\n",
    "df['goal_angle'] = df.apply(\n",
    "    lambda r: goal_angle(r[['x','y']]),axis=1)"
   ]
  },
  {
   "cell_type": "code",
   "execution_count": 16,
   "metadata": {},
   "outputs": [
    {
     "data": {
      "text/html": [
       "<div>\n",
       "<style scoped>\n",
       "    .dataframe tbody tr th:only-of-type {\n",
       "        vertical-align: middle;\n",
       "    }\n",
       "\n",
       "    .dataframe tbody tr th {\n",
       "        vertical-align: top;\n",
       "    }\n",
       "\n",
       "    .dataframe thead th {\n",
       "        text-align: right;\n",
       "    }\n",
       "</style>\n",
       "<table border=\"1\" class=\"dataframe\">\n",
       "  <thead>\n",
       "    <tr style=\"text-align: right;\">\n",
       "      <th></th>\n",
       "      <th>x</th>\n",
       "      <th>y</th>\n",
       "      <th>head</th>\n",
       "      <th>phase</th>\n",
       "      <th>outcome</th>\n",
       "      <th>xG</th>\n",
       "      <th>distance_to_goal</th>\n",
       "      <th>goal_angle</th>\n",
       "    </tr>\n",
       "  </thead>\n",
       "  <tbody>\n",
       "    <tr>\n",
       "      <th>0</th>\n",
       "      <td>115.0</td>\n",
       "      <td>34.0</td>\n",
       "      <td>0</td>\n",
       "      <td>Open Play</td>\n",
       "      <td>1</td>\n",
       "      <td>0.074087</td>\n",
       "      <td>7.810250</td>\n",
       "      <td>1.190290</td>\n",
       "    </tr>\n",
       "    <tr>\n",
       "      <th>1</th>\n",
       "      <td>112.0</td>\n",
       "      <td>36.0</td>\n",
       "      <td>0</td>\n",
       "      <td>Open Play</td>\n",
       "      <td>1</td>\n",
       "      <td>0.292995</td>\n",
       "      <td>8.944272</td>\n",
       "      <td>1.570796</td>\n",
       "    </tr>\n",
       "    <tr>\n",
       "      <th>2</th>\n",
       "      <td>101.0</td>\n",
       "      <td>55.0</td>\n",
       "      <td>0</td>\n",
       "      <td>Free Kick</td>\n",
       "      <td>0</td>\n",
       "      <td>0.078714</td>\n",
       "      <td>24.207437</td>\n",
       "      <td>2.356194</td>\n",
       "    </tr>\n",
       "    <tr>\n",
       "      <th>3</th>\n",
       "      <td>103.0</td>\n",
       "      <td>24.0</td>\n",
       "      <td>0</td>\n",
       "      <td>Open Play</td>\n",
       "      <td>0</td>\n",
       "      <td>0.028038</td>\n",
       "      <td>23.345235</td>\n",
       "      <td>0.956133</td>\n",
       "    </tr>\n",
       "    <tr>\n",
       "      <th>4</th>\n",
       "      <td>96.0</td>\n",
       "      <td>37.0</td>\n",
       "      <td>0</td>\n",
       "      <td>Open Play</td>\n",
       "      <td>0</td>\n",
       "      <td>0.064261</td>\n",
       "      <td>24.186773</td>\n",
       "      <td>1.612439</td>\n",
       "    </tr>\n",
       "  </tbody>\n",
       "</table>\n",
       "</div>"
      ],
      "text/plain": [
       "       x     y  head      phase  outcome        xG  distance_to_goal  \\\n",
       "0  115.0  34.0     0  Open Play        1  0.074087          7.810250   \n",
       "1  112.0  36.0     0  Open Play        1  0.292995          8.944272   \n",
       "2  101.0  55.0     0  Free Kick        0  0.078714         24.207437   \n",
       "3  103.0  24.0     0  Open Play        0  0.028038         23.345235   \n",
       "4   96.0  37.0     0  Open Play        0  0.064261         24.186773   \n",
       "\n",
       "   goal_angle  \n",
       "0    1.190290  \n",
       "1    1.570796  \n",
       "2    2.356194  \n",
       "3    0.956133  \n",
       "4    1.612439  "
      ]
     },
     "execution_count": 16,
     "metadata": {},
     "output_type": "execute_result"
    }
   ],
   "source": [
    "df.head()"
   ]
  },
  {
   "cell_type": "code",
   "execution_count": 17,
   "metadata": {},
   "outputs": [],
   "source": [
    "shots = df[~df['phase'].isin(['Free Kick','Penalty'])]"
   ]
  },
  {
   "cell_type": "code",
   "execution_count": 19,
   "metadata": {},
   "outputs": [
    {
     "data": {
      "text/html": [
       "<div>\n",
       "<style scoped>\n",
       "    .dataframe tbody tr th:only-of-type {\n",
       "        vertical-align: middle;\n",
       "    }\n",
       "\n",
       "    .dataframe tbody tr th {\n",
       "        vertical-align: top;\n",
       "    }\n",
       "\n",
       "    .dataframe thead th {\n",
       "        text-align: right;\n",
       "    }\n",
       "</style>\n",
       "<table border=\"1\" class=\"dataframe\">\n",
       "  <thead>\n",
       "    <tr style=\"text-align: right;\">\n",
       "      <th></th>\n",
       "      <th>x</th>\n",
       "      <th>y</th>\n",
       "      <th>head</th>\n",
       "      <th>phase</th>\n",
       "      <th>outcome</th>\n",
       "      <th>xG</th>\n",
       "      <th>distance_to_goal</th>\n",
       "      <th>goal_angle</th>\n",
       "    </tr>\n",
       "  </thead>\n",
       "  <tbody>\n",
       "    <tr>\n",
       "      <th>0</th>\n",
       "      <td>115.0</td>\n",
       "      <td>34.0</td>\n",
       "      <td>0</td>\n",
       "      <td>Open Play</td>\n",
       "      <td>1</td>\n",
       "      <td>0.074087</td>\n",
       "      <td>7.810250</td>\n",
       "      <td>1.190290</td>\n",
       "    </tr>\n",
       "    <tr>\n",
       "      <th>1</th>\n",
       "      <td>112.0</td>\n",
       "      <td>36.0</td>\n",
       "      <td>0</td>\n",
       "      <td>Open Play</td>\n",
       "      <td>1</td>\n",
       "      <td>0.292995</td>\n",
       "      <td>8.944272</td>\n",
       "      <td>1.570796</td>\n",
       "    </tr>\n",
       "    <tr>\n",
       "      <th>3</th>\n",
       "      <td>103.0</td>\n",
       "      <td>24.0</td>\n",
       "      <td>0</td>\n",
       "      <td>Open Play</td>\n",
       "      <td>0</td>\n",
       "      <td>0.028038</td>\n",
       "      <td>23.345235</td>\n",
       "      <td>0.956133</td>\n",
       "    </tr>\n",
       "    <tr>\n",
       "      <th>4</th>\n",
       "      <td>96.0</td>\n",
       "      <td>37.0</td>\n",
       "      <td>0</td>\n",
       "      <td>Open Play</td>\n",
       "      <td>0</td>\n",
       "      <td>0.064261</td>\n",
       "      <td>24.186773</td>\n",
       "      <td>1.612439</td>\n",
       "    </tr>\n",
       "    <tr>\n",
       "      <th>5</th>\n",
       "      <td>111.0</td>\n",
       "      <td>50.0</td>\n",
       "      <td>0</td>\n",
       "      <td>Open Play</td>\n",
       "      <td>0</td>\n",
       "      <td>0.303150</td>\n",
       "      <td>13.453624</td>\n",
       "      <td>2.570255</td>\n",
       "    </tr>\n",
       "  </tbody>\n",
       "</table>\n",
       "</div>"
      ],
      "text/plain": [
       "       x     y  head      phase  outcome        xG  distance_to_goal  \\\n",
       "0  115.0  34.0     0  Open Play        1  0.074087          7.810250   \n",
       "1  112.0  36.0     0  Open Play        1  0.292995          8.944272   \n",
       "3  103.0  24.0     0  Open Play        0  0.028038         23.345235   \n",
       "4   96.0  37.0     0  Open Play        0  0.064261         24.186773   \n",
       "5  111.0  50.0     0  Open Play        0  0.303150         13.453624   \n",
       "\n",
       "   goal_angle  \n",
       "0    1.190290  \n",
       "1    1.570796  \n",
       "3    0.956133  \n",
       "4    1.612439  \n",
       "5    2.570255  "
      ]
     },
     "execution_count": 19,
     "metadata": {},
     "output_type": "execute_result"
    }
   ],
   "source": [
    "shots.head()"
   ]
  },
  {
   "cell_type": "code",
   "execution_count": 20,
   "metadata": {},
   "outputs": [],
   "source": [
    "from sklearn.linear_model import LogisticRegression\n",
    "model = LogisticRegression()"
   ]
  },
  {
   "cell_type": "code",
   "execution_count": 25,
   "metadata": {},
   "outputs": [],
   "source": [
    "features = shots[['distance_to_goal','goal_angle','head']]\n",
    "labels = shots['outcome']\n",
    "\n",
    "fit = model.fit(features,labels)"
   ]
  },
  {
   "cell_type": "code",
   "execution_count": 26,
   "metadata": {},
   "outputs": [],
   "source": [
    "predictions = model.predict_proba(features)[:,1]"
   ]
  },
  {
   "cell_type": "code",
   "execution_count": 27,
   "metadata": {},
   "outputs": [
    {
     "data": {
      "image/png": "[encoded data removed]",
      "text/plain": [
       "<Figure size 432x288 with 1 Axes>"
      ]
     },
     "metadata": {
      "needs_background": "light"
     },
     "output_type": "display_data"
    }
   ],
   "source": [
    "plt.plot(sorted(predictions))\n",
    "plt.show()"
   ]
  },
  {
   "cell_type": "code",
   "execution_count": null,
   "metadata": {},
   "outputs": [],
   "source": []
  }
 ],
 "metadata": {
  "kernelspec": {
   "display_name": "Python 3",
   "language": "python",
   "name": "python3"
  },
  "language_info": {
   "codemirror_mode": {
    "name": "ipython",
    "version": 3
   },
   "file_extension": ".py",
   "mimetype": "text/x-python",
   "name": "python",
   "nbconvert_exporter": "python",
   "pygments_lexer": "ipython3",
   "version": "3.8.5"
  }
 },
 "nbformat": 4,
 "nbformat_minor": 4
}
